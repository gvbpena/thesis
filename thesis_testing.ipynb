{
 "cells": [
  {
   "cell_type": "code",
   "execution_count": 5,
   "metadata": {},
   "outputs": [],
   "source": [
    "import librosa\n",
    "import numpy as np\n",
    "import json\n",
    "from keras.models import load_model\n",
    "import joblib\n",
    "from xgboost import XGBClassifier\n",
    "import os"
   ]
  },
  {
   "cell_type": "code",
   "execution_count": 6,
   "metadata": {},
   "outputs": [],
   "source": [
    "def extract_features(file_path):\n",
    "    try:\n",
    "        audio, _ = librosa.load(file_path, sr=22050, mono=True)\n",
    "        mfccs = librosa.feature.mfcc(y=audio, sr=22050, n_mfcc=13)\n",
    "        chroma = librosa.feature.chroma_stft(y=audio, sr=22050)\n",
    "        spectral_contrast = librosa.feature.spectral_contrast(y=audio, sr=22050)\n",
    "        tonnetz = librosa.feature.tonnetz(y=audio, sr=22050)\n",
    "        features = np.vstack([mfccs, chroma, spectral_contrast, tonnetz])\n",
    "        return np.mean(features.T, axis=0)\n",
    "    except Exception as e:\n",
    "        print(f\"Error encountered while parsing file '{file_path}': {e}\")\n",
    "        return None"
   ]
  },
  {
   "cell_type": "code",
   "execution_count": 7,
   "metadata": {},
   "outputs": [],
   "source": [
    "from keras.models import load_model\n",
    "import joblib\n",
    "\n",
    "def classify_music(file_path):\n",
    "    saved_folder = 'model_folder'\n",
    "\n",
    "    # Load data and models from the saved folder\n",
    "    y_test = np.load(os.path.join(saved_folder, 'y_test.npy'))\n",
    "    cnn_model = load_model(os.path.join(saved_folder, 'cnn_model.h5'))\n",
    "    rf_model = joblib.load(os.path.join(saved_folder, 'rf_model.joblib'))\n",
    "    svm_model = joblib.load(os.path.join(saved_folder, 'svm_model.joblib'))\n",
    "    xgb_model = joblib.load(os.path.join(saved_folder, 'xgb_model.joblib'))\n",
    "    # ensemble_input = np.load(os.path.join(saved_folder, 'ensemble_input.npy'))\n",
    "\n",
    "    # Load label dictionary\n",
    "    with open(os.path.join(saved_folder, 'label_dict.json'), 'r') as json_file:\n",
    "        label_dict = json.load(json_file)\n",
    "\n",
    "    # Extract features\n",
    "    sample_features = extract_features(file_path)\n",
    "    sample_features_cnn = sample_features.reshape(1, sample_features.shape[0], 1)\n",
    "\n",
    "    # Predict with CNN model\n",
    "    cnn_prediction_prob = cnn_model.predict(sample_features_cnn)[0]\n",
    "    genre_names = {idx: genre for genre, idx in label_dict.items()}\n",
    "    predicted_percentages_cnn = {genre_names[idx]: float(prob) * 100 for idx, prob in enumerate(cnn_prediction_prob)}\n",
    "    predicted_genre_cnn = max(predicted_percentages_cnn, key=predicted_percentages_cnn.get)\n",
    "    sorted_cnn_predictions = dict(sorted(predicted_percentages_cnn.items(), key=lambda item: item[1], reverse=True))\n",
    "    sorted_json_result_cnn = {\n",
    "        \"Predicted Genre (CNN)\": predicted_genre_cnn,\n",
    "        \"Predicted Percentages (CNN)\": sorted_cnn_predictions\n",
    "    }\n",
    "\n",
    "    # Predict with SVM, Random Forest, and XGBoost models\n",
    "    cnn_features_sample = cnn_model.predict(sample_features_cnn)\n",
    "    svm_prediction_sample = svm_model.predict(cnn_features_sample)\n",
    "    rf_prediction_sample = rf_model.predict(cnn_features_sample)\n",
    "    ensemble_input_sample = np.column_stack((svm_prediction_sample, rf_prediction_sample, np.argmax(cnn_prediction_prob)))\n",
    "    ensemble_prediction_sample = xgb_model.predict(ensemble_input_sample)\n",
    "    \n",
    "    # Organize predictions\n",
    "    predicted_genre_ensemble = genre_names[ensemble_prediction_sample[0]]\n",
    "    predicted_probabilities_ensemble = xgb_model.predict_proba(ensemble_input_sample)[0]\n",
    "    predicted_percentages_ensemble = {genre_names[idx]: float(prob) * 100 for idx, prob in enumerate(predicted_probabilities_ensemble)}\n",
    "    sorted_ensemble_predictions = dict(sorted(predicted_percentages_ensemble.items(), key=lambda item: item[1], reverse=True))\n",
    "    sorted_json_result_ensemble = {\n",
    "        \"Predicted Genre (OCNN)\": predicted_genre_ensemble,\n",
    "        \"Predicted Percentages (OCNN)\": sorted_ensemble_predictions\n",
    "    }\n",
    "\n",
    "    # Merge results\n",
    "    merged_json_result = {\"CNN\": sorted_json_result_cnn, \"OCNN\": sorted_json_result_ensemble}\n",
    "    \n",
    "    return merged_json_result\n"
   ]
  },
  {
   "cell_type": "code",
   "execution_count": 8,
   "metadata": {},
   "outputs": [
    {
     "name": "stderr",
     "output_type": "stream",
     "text": [
      "WARNING:absl:Compiled the loaded model, but the compiled metrics have yet to be built. `model.compile_metrics` will be empty until you train or evaluate the model.\n"
     ]
    },
    {
     "name": "stdout",
     "output_type": "stream",
     "text": [
      "\u001b[1m1/1\u001b[0m \u001b[32m━━━━━━━━━━━━━━━━━━━━\u001b[0m\u001b[37m\u001b[0m \u001b[1m0s\u001b[0m 339ms/step\n",
      "\u001b[1m1/1\u001b[0m \u001b[32m━━━━━━━━━━━━━━━━━━━━\u001b[0m\u001b[37m\u001b[0m \u001b[1m0s\u001b[0m 63ms/step\n",
      "{\n",
      "    \"CNN\": {\n",
      "        \"Predicted Genre (CNN)\": \"reggae\",\n",
      "        \"Predicted Percentages (CNN)\": {\n",
      "            \"reggae\": 97.69322872161865,\n",
      "            \"country\": 1.7454657703638077,\n",
      "            \"hiphop\": 0.1772410119883716,\n",
      "            \"pop\": 0.14804353704676032,\n",
      "            \"blues\": 0.10057805338874459,\n",
      "            \"rock\": 0.08785994141362607,\n",
      "            \"jazz\": 0.025366529007442296,\n",
      "            \"disco\": 0.021281337831169367,\n",
      "            \"classical\": 0.0008577597327530384,\n",
      "            \"metal\": 5.203357318350754e-05,\n",
      "            \"noise\": 2.3139423888096644e-05\n",
      "        }\n",
      "    },\n",
      "    \"OCNN\": {\n",
      "        \"Predicted Genre (OCNN)\": \"reggae\",\n",
      "        \"Predicted Percentages (OCNN)\": {\n",
      "            \"reggae\": 78.76774668693542,\n",
      "            \"rock\": 4.932743683457375,\n",
      "            \"pop\": 4.80867512524128,\n",
      "            \"country\": 3.2953735440969467,\n",
      "            \"disco\": 2.8219450265169144,\n",
      "            \"blues\": 1.5717899426817894,\n",
      "            \"jazz\": 1.3491986319422722,\n",
      "            \"classical\": 1.1697299778461456,\n",
      "            \"hiphop\": 1.0494520887732506,\n",
      "            \"metal\": 0.1511762267909944,\n",
      "            \"noise\": 0.0821766268927604\n",
      "        }\n",
      "    }\n",
      "}\n"
     ]
    }
   ],
   "source": [
    "filename = \"one day reggae.wav\" #\"magna.wav\"\n",
    "\n",
    "\n",
    "# print()\n",
    "print(json.dumps(classify_music(filename), indent=4))"
   ]
  }
 ],
 "metadata": {
  "kernelspec": {
   "display_name": "venv",
   "language": "python",
   "name": "python3"
  },
  "language_info": {
   "codemirror_mode": {
    "name": "ipython",
    "version": 3
   },
   "file_extension": ".py",
   "mimetype": "text/x-python",
   "name": "python",
   "nbconvert_exporter": "python",
   "pygments_lexer": "ipython3",
   "version": "3.12.2"
  }
 },
 "nbformat": 4,
 "nbformat_minor": 2
}

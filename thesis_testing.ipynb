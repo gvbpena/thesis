{
 "cells": [
  {
   "cell_type": "code",
   "execution_count": 28,
   "metadata": {},
   "outputs": [],
   "source": [
    "import librosa\n",
    "import numpy as np\n",
    "import json\n",
    "import os"
   ]
  },
  {
   "cell_type": "code",
   "execution_count": 29,
   "metadata": {},
   "outputs": [],
   "source": [
    "def extract_features(file_path):\n",
    "    try:\n",
    "        audio, _ = librosa.load(file_path, mono=True)\n",
    "        mfccs = librosa.feature.mfcc(y=audio, n_mfcc=13)\n",
    "        chroma = librosa.feature.chroma_stft(y=audio)\n",
    "        spectral_contrast = librosa.feature.spectral_contrast(y=audio)\n",
    "        tonnetz = librosa.feature.tonnetz(y=audio)\n",
    "        features = np.vstack([mfccs, chroma, spectral_contrast, tonnetz])\n",
    "        return np.mean(features.T, axis=0)\n",
    "    except Exception as e:\n",
    "        print(f\"Error encountered while parsing file '{file_path}': {e}\")\n",
    "        return None\n"
   ]
  },
  {
   "cell_type": "code",
   "execution_count": 30,
   "metadata": {},
   "outputs": [],
   "source": [
    "from keras.models import load_model\n",
    "import joblib\n",
    "\n",
    "def classify_music(file_path):\n",
    "    saved_folder = 'model_folder'\n",
    "\n",
    "    # Load data and models from the saved folder\n",
    "    # y_test = np.load(os.path.join(saved_folder, 'y_test.npy'))\n",
    "    cnn_model = load_model(os.path.join(saved_folder, 'cnn_model.h5'))\n",
    "    baseline_cnn_model = load_model(os.path.join(saved_folder, 'baseline_cnn_model.h5'))\n",
    "    rf_model = joblib.load(os.path.join(saved_folder, 'rf_model.joblib'))\n",
    "    svm_model = joblib.load(os.path.join(saved_folder, 'svm_model.joblib'))\n",
    "    xgb_model = joblib.load(os.path.join(saved_folder, 'xgb_model.joblib'))\n",
    "    # ensemble_input = np.load(os.path.join(saved_folder, 'ensemble_input.npy'))\n",
    "\n",
    "    # Load label dictionary\n",
    "    with open(os.path.join(saved_folder, 'label_dict.json'), 'r') as json_file:\n",
    "        label_dict = json.load(json_file)\n",
    "\n",
    "    # Extract features\n",
    "    sample_features = extract_features(file_path)\n",
    "    sample_features_cnn = sample_features.reshape(1, sample_features.shape[0], 1)\n",
    "\n",
    "    # Predict with baseline CNN model\n",
    "    baseline_cnn_prediction_prob = baseline_cnn_model.predict(sample_features_cnn)[0]\n",
    "    genre_names = {idx: genre for genre, idx in label_dict.items()}\n",
    "    predicted_percentages_baseline_cnn = {genre_names[idx]: float(prob) * 100 for idx, prob in enumerate(baseline_cnn_prediction_prob)}\n",
    "    predicted_genre_baseline_cnn = max(predicted_percentages_baseline_cnn, key=predicted_percentages_baseline_cnn.get)\n",
    "    sorted_baseline_cnn_predictions = dict(sorted(predicted_percentages_baseline_cnn.items(), key=lambda item: item[1], reverse=True))\n",
    "    sorted_json_result_baseline_cnn = {\n",
    "        \"Predicted Genre (Baseline CNN)\": predicted_genre_baseline_cnn,\n",
    "        \"Predicted Percentages (Baseline CNN)\": sorted_baseline_cnn_predictions\n",
    "    }\n",
    "\n",
    "    cnn_prediction_prob = cnn_model.predict(sample_features_cnn)[0]\n",
    "    # Predict with SVM, Random Forest, and XGBoost models\n",
    "    cnn_features_sample = cnn_model.predict(sample_features_cnn)\n",
    "    svm_prediction_sample = svm_model.predict(cnn_features_sample)\n",
    "    rf_prediction_sample = rf_model.predict(cnn_features_sample)\n",
    "    ensemble_input_sample = np.column_stack((svm_prediction_sample, rf_prediction_sample, np.argmax(cnn_prediction_prob)))\n",
    "    ensemble_prediction_sample = xgb_model.predict(ensemble_input_sample)\n",
    "    \n",
    "    # Organize predictions\n",
    "    predicted_genre_ensemble = genre_names[ensemble_prediction_sample[0]]\n",
    "    predicted_probabilities_ensemble = xgb_model.predict_proba(ensemble_input_sample)[0]\n",
    "    predicted_percentages_ensemble = {genre_names[idx]: float(prob) * 100 for idx, prob in enumerate(predicted_probabilities_ensemble)}\n",
    "    sorted_ensemble_predictions = dict(sorted(predicted_percentages_ensemble.items(), key=lambda item: item[1], reverse=True))\n",
    "    sorted_json_result_ensemble = {\n",
    "        \"Predicted Genre (OCNN)\": predicted_genre_ensemble,\n",
    "        \"Predicted Percentages (OCNN)\": sorted_ensemble_predictions\n",
    "    }\n",
    "\n",
    "    # Merge results\n",
    "    merged_json_result = {\"Baseline CNN\": sorted_json_result_baseline_cnn, \"OCNN\": sorted_json_result_ensemble}\n",
    "    \n",
    "    return merged_json_result\n"
   ]
  },
  {
   "cell_type": "code",
   "execution_count": 31,
   "metadata": {},
   "outputs": [
    {
     "name": "stderr",
     "output_type": "stream",
     "text": [
      "WARNING:absl:Compiled the loaded model, but the compiled metrics have yet to be built. `model.compile_metrics` will be empty until you train or evaluate the model.\n",
      "WARNING:absl:Compiled the loaded model, but the compiled metrics have yet to be built. `model.compile_metrics` will be empty until you train or evaluate the model.\n"
     ]
    },
    {
     "name": "stdout",
     "output_type": "stream",
     "text": [
      "\u001b[1m1/1\u001b[0m \u001b[32m━━━━━━━━━━━━━━━━━━━━\u001b[0m\u001b[37m\u001b[0m \u001b[1m0s\u001b[0m 224ms/step\n",
      "\u001b[1m1/1\u001b[0m \u001b[32m━━━━━━━━━━━━━━━━━━━━\u001b[0m\u001b[37m\u001b[0m \u001b[1m0s\u001b[0m 244ms/step\n",
      "\u001b[1m1/1\u001b[0m \u001b[32m━━━━━━━━━━━━━━━━━━━━\u001b[0m\u001b[37m\u001b[0m \u001b[1m0s\u001b[0m 33ms/step\n",
      "{\n",
      "    \"Baseline CNN\": {\n",
      "        \"Predicted Genre (Baseline CNN)\": \"disco\",\n",
      "        \"Predicted Percentages (Baseline CNN)\": {\n",
      "            \"disco\": 86.92527413368225,\n",
      "            \"metal\": 5.351472645998001,\n",
      "            \"hiphop\": 2.074967138469219,\n",
      "            \"jazz\": 1.4219047501683235,\n",
      "            \"classical\": 1.3325255364179611,\n",
      "            \"country\": 1.1458273977041245,\n",
      "            \"pop\": 1.0018767789006233,\n",
      "            \"rock\": 0.697948457673192,\n",
      "            \"blues\": 0.030386258731596172,\n",
      "            \"reggae\": 0.01532921742182225,\n",
      "            \"noise\": 0.0024840508558554575\n",
      "        }\n",
      "    },\n",
      "    \"OCNN\": {\n",
      "        \"Predicted Genre (OCNN)\": \"reggae\",\n",
      "        \"Predicted Percentages (OCNN)\": {\n",
      "            \"reggae\": 84.7791850566864,\n",
      "            \"pop\": 4.427284747362137,\n",
      "            \"rock\": 4.098379239439964,\n",
      "            \"country\": 1.7963826656341553,\n",
      "            \"disco\": 1.6856499016284943,\n",
      "            \"hiphop\": 1.611006073653698,\n",
      "            \"jazz\": 0.49496269784867764,\n",
      "            \"classical\": 0.4111399408429861,\n",
      "            \"metal\": 0.3440628992393613,\n",
      "            \"blues\": 0.2684265375137329,\n",
      "            \"noise\": 0.08351969881914556\n",
      "        }\n",
      "    }\n",
      "}\n"
     ]
    }
   ],
   "source": [
    "filename = \"one day reggae.wav\" #\"magna.wav\"\n",
    "\n",
    "\n",
    "# print()\n",
    "print(json.dumps(classify_music(filename), indent=4))"
   ]
  }
 ],
 "metadata": {
  "kernelspec": {
   "display_name": "venv",
   "language": "python",
   "name": "python3"
  },
  "language_info": {
   "codemirror_mode": {
    "name": "ipython",
    "version": 3
   },
   "file_extension": ".py",
   "mimetype": "text/x-python",
   "name": "python",
   "nbconvert_exporter": "python",
   "pygments_lexer": "ipython3",
   "version": "3.12.2"
  }
 },
 "nbformat": 4,
 "nbformat_minor": 2
}

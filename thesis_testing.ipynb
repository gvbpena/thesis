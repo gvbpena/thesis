{
 "cells": [
  {
   "cell_type": "code",
   "execution_count": 64,
   "metadata": {},
   "outputs": [],
   "source": [
    "import librosa\n",
    "import joblib\n",
    "from xgboost import XGBClassifier\n",
    "import json\n",
    "import numpy as np\n",
    "import os\n",
    "from keras.models import load_model\n",
    "from sklearn.preprocessing import LabelEncoder"
   ]
  },
  {
   "cell_type": "code",
   "execution_count": 65,
   "metadata": {},
   "outputs": [],
   "source": [
    "def extract_features(file_path):\n",
    "    try:\n",
    "        # Load MP3 file\n",
    "        audio, _ = librosa.load(file_path, sr=22050, mono=True)  # Adjust duration as needed\n",
    "        mfccs = librosa.feature.mfcc(y=audio, sr=22050, n_mfcc=13)\n",
    "        chroma = librosa.feature.chroma_stft(y=audio, sr=22050)\n",
    "        spectral_contrast = librosa.feature.spectral_contrast(y=audio, sr=22050)\n",
    "        tonnetz = librosa.feature.tonnetz(y=audio, sr=22050)\n",
    "        features = np.vstack([mfccs, chroma, spectral_contrast, tonnetz])\n",
    "        mean_features = np.mean(features.T, axis=0)\n",
    "        return mean_features\n",
    "    except Exception as e:\n",
    "        print(f\"Error encountered while parsing file '{file_path}': {e}\")\n",
    "        return None"
   ]
  },
  {
   "cell_type": "code",
   "execution_count": 66,
   "metadata": {},
   "outputs": [],
   "source": [
    "def classify_music(file_path):\n",
    "    saved_folder = 'new'\n",
    "\n",
    "    # Load data and models from the saved folder\n",
    "    y_test = np.load(os.path.join(saved_folder, 'y_test.npy'))\n",
    "    cnn_model = load_model(os.path.join(saved_folder, 'cnn_model.h5'))\n",
    "    baseline_cnn_model = load_model(os.path.join(saved_folder, 'baseline_cnn_model.h5'))\n",
    "    rf_model = joblib.load(os.path.join(saved_folder, 'rf_model.joblib'))\n",
    "    svm_model = joblib.load(os.path.join(saved_folder, 'svm_model.joblib'))\n",
    "    ensemble_input = np.load(os.path.join(saved_folder, 'ensemble_input.npy'))\n",
    "\n",
    "    # Load label dictionary\n",
    "    with open(os.path.join(saved_folder, 'label_dict.json'), 'r') as json_file:\n",
    "        label_dict = json.load(json_file)\n",
    "\n",
    "    # Extract features\n",
    "    sample_features = extract_features(file_path)\n",
    "    sample_features_cnn = sample_features.reshape(1, sample_features.shape[0], 1)\n",
    "\n",
    "    # CNN prediction\n",
    "    cnn_prediction_prob = baseline_cnn_model.predict(sample_features_cnn)[0]\n",
    "    genre_names = {idx: genre for genre, idx in label_dict.items()}\n",
    "    predicted_percentages_cnn = {genre_names[idx]: float(genre_prob) * 100 for idx, genre_prob in enumerate(cnn_prediction_prob)}\n",
    "    predicted_genre_cnn = max(predicted_percentages_cnn, key=predicted_percentages_cnn.get)\n",
    "\n",
    "    # Ensemble prediction\n",
    "    cnn_features_sample = cnn_model.predict(sample_features_cnn)\n",
    "    svm_prediction_sample = svm_model.predict(cnn_features_sample)\n",
    "    rf_prediction_sample = rf_model.predict(cnn_features_sample)\n",
    "    ensemble_input_sample = np.column_stack((svm_prediction_sample, rf_prediction_sample, np.argmax(cnn_prediction_prob)))\n",
    "    xgb_model_ensemble = XGBClassifier(n_estimators=100, max_depth=3, learning_rate=0.1)\n",
    "    xgb_model_ensemble.fit(ensemble_input, y_test)\n",
    "    ensemble_prediction_sample = xgb_model_ensemble.predict(ensemble_input_sample)\n",
    "    predicted_genre_ensemble = genre_names[ensemble_prediction_sample[0]]\n",
    "    predicted_probabilities_ensemble = xgb_model_ensemble.predict_proba(ensemble_input_sample)[0]\n",
    "    predicted_percentages_ensemble = {genre: float(percentage) * 100 for genre, percentage in zip(genre_names.values(), predicted_probabilities_ensemble)}\n",
    "\n",
    "    # Sorted predictions\n",
    "    sorted_cnn_predictions = {genre: percentage for genre, percentage in sorted(predicted_percentages_cnn.items(), key=lambda x: x[1], reverse=True)}\n",
    "    sorted_ensemble_predictions = {genre: percentage for genre, percentage in sorted(predicted_percentages_ensemble.items(), key=lambda x: x[1], reverse=True)}\n",
    "\n",
    "    # JSON results\n",
    "    sorted_json_result_cnn = {\"Predicted Genre (CNN)\": predicted_genre_cnn, \"Predicted Percentages (CNN)\": sorted_cnn_predictions}\n",
    "    sorted_json_result_ensemble = {\"Predicted Genre (OCNN)\": predicted_genre_ensemble, \"Predicted Percentages (OCNN)\": sorted_ensemble_predictions}\n",
    "    merged_json_result = {\"CNN\": sorted_json_result_cnn, \"OCNN\": sorted_json_result_ensemble}\n",
    "\n",
    "    return merged_json_result\n"
   ]
  },
  {
   "cell_type": "code",
   "execution_count": 69,
   "metadata": {},
   "outputs": [
    {
     "name": "stderr",
     "output_type": "stream",
     "text": [
      "WARNING:absl:Compiled the loaded model, but the compiled metrics have yet to be built. `model.compile_metrics` will be empty until you train or evaluate the model.\n",
      "WARNING:absl:Compiled the loaded model, but the compiled metrics have yet to be built. `model.compile_metrics` will be empty until you train or evaluate the model.\n"
     ]
    },
    {
     "name": "stdout",
     "output_type": "stream",
     "text": [
      "\u001b[1m1/1\u001b[0m \u001b[32m━━━━━━━━━━━━━━━━━━━━\u001b[0m\u001b[37m\u001b[0m \u001b[1m0s\u001b[0m 187ms/step\n",
      "\u001b[1m1/1\u001b[0m \u001b[32m━━━━━━━━━━━━━━━━━━━━\u001b[0m\u001b[37m\u001b[0m \u001b[1m0s\u001b[0m 349ms/step\n",
      "{\n",
      "    \"CNN\": {\n",
      "        \"Predicted Genre (CNN)\": \"country\",\n",
      "        \"Predicted Percentages (CNN)\": {\n",
      "            \"country\": 76.5015959739685,\n",
      "            \"classical\": 18.58040541410446,\n",
      "            \"metal\": 2.5527222082018852,\n",
      "            \"hiphop\": 1.960441842675209,\n",
      "            \"blues\": 0.27204391080886126,\n",
      "            \"pop\": 0.05756336613558233,\n",
      "            \"noise\": 0.035301721072755754,\n",
      "            \"rock\": 0.03296226495876908,\n",
      "            \"reggae\": 0.005929822873440571,\n",
      "            \"jazz\": 0.0008822489689919166,\n",
      "            \"disco\": 0.0001459030386286031\n",
      "        }\n",
      "    },\n",
      "    \"OCNN\": {\n",
      "        \"Predicted Genre (OCNN)\": \"metal\",\n",
      "        \"Predicted Percentages (OCNN)\": {\n",
      "            \"metal\": 88.40416073799133,\n",
      "            \"rock\": 3.862478584051132,\n",
      "            \"jazz\": 3.8304243236780167,\n",
      "            \"hiphop\": 0.9169843047857285,\n",
      "            \"blues\": 0.8051239885389805,\n",
      "            \"classical\": 0.7433482445776463,\n",
      "            \"pop\": 0.5691842176020145,\n",
      "            \"country\": 0.5036334041506052,\n",
      "            \"reggae\": 0.2076919423416257,\n",
      "            \"disco\": 0.12585384538397193,\n",
      "            \"noise\": 0.031113543082028627\n",
      "        }\n",
      "    }\n",
      "}\n"
     ]
    }
   ],
   "source": [
    "filename = \"./Data/genres_original/metal/metal.00000.wav\" #\"magna.wav\"\n",
    "\n",
    "\n",
    "# print()\n",
    "print(json.dumps(classify_music(filename), indent=4))"
   ]
  }
 ],
 "metadata": {
  "kernelspec": {
   "display_name": "venv",
   "language": "python",
   "name": "python3"
  },
  "language_info": {
   "codemirror_mode": {
    "name": "ipython",
    "version": 3
   },
   "file_extension": ".py",
   "mimetype": "text/x-python",
   "name": "python",
   "nbconvert_exporter": "python",
   "pygments_lexer": "ipython3",
   "version": "3.12.2"
  }
 },
 "nbformat": 4,
 "nbformat_minor": 2
}

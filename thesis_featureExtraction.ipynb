{
 "cells": [
  {
   "cell_type": "code",
   "execution_count": 1,
   "metadata": {},
   "outputs": [],
   "source": [
    "import os\n",
    "import numpy as np\n",
    "import librosa\n",
    "from joblib import dump"
   ]
  },
  {
   "cell_type": "code",
   "execution_count": 4,
   "metadata": {},
   "outputs": [],
   "source": [
    "def extract_features(file_path):\n",
    "    try:\n",
    "        audio, _ = librosa.load(file_path, sr=22050, mono=True)\n",
    "        mfccs = librosa.feature.mfcc(y=audio, sr=22050, n_mfcc=13)\n",
    "        chroma = librosa.feature.chroma_stft(y=audio, sr=22050)\n",
    "        spectral_contrast = librosa.feature.spectral_contrast(y=audio, sr=22050)\n",
    "        tonnetz = librosa.feature.tonnetz(y=audio, sr=22050)\n",
    "        features = np.vstack([mfccs, chroma, spectral_contrast, tonnetz])\n",
    "        return np.mean(features.T, axis=0)\n",
    "    except Exception as e:\n",
    "        print(f\"Error encountered while parsing file '{file_path}': {e}\")\n",
    "        return None"
   ]
  },
  {
   "cell_type": "code",
   "execution_count": 5,
   "metadata": {},
   "outputs": [
    {
     "name": "stderr",
     "output_type": "stream",
     "text": [
      "c:\\Users\\gvbpena\\Desktop\\thesis\\venv\\Lib\\site-packages\\librosa\\core\\pitch.py:101: UserWarning: Trying to estimate tuning from empty frequency set.\n",
      "  return pitch_tuning(\n"
     ]
    }
   ],
   "source": [
    "# Load Data\n",
    "data = []\n",
    "labels = []\n",
    "genres = os.listdir('./Data/genres_original')\n",
    "for genre in genres:\n",
    "    genre_path = os.path.join('./Data/genres_original', genre)\n",
    "    for file in os.listdir(genre_path):\n",
    "        file_path = os.path.join(genre_path, file)\n",
    "        feature = extract_features(file_path)\n",
    "        if feature is not None:\n",
    "            data.append(feature)\n",
    "            labels.append(genre)"
   ]
  },
  {
   "cell_type": "code",
   "execution_count": 6,
   "metadata": {},
   "outputs": [
    {
     "data": {
      "text/plain": [
       "['new_labels.joblib']"
      ]
     },
     "execution_count": 6,
     "metadata": {},
     "output_type": "execute_result"
    }
   ],
   "source": [
    "\n",
    "# Save data and labels\n",
    "dump(data, 'saved_data.joblib')\n",
    "dump(labels, 'saved_labels.joblib')"
   ]
  }
 ],
 "metadata": {
  "kernelspec": {
   "display_name": "venv",
   "language": "python",
   "name": "python3"
  },
  "language_info": {
   "codemirror_mode": {
    "name": "ipython",
    "version": 3
   },
   "file_extension": ".py",
   "mimetype": "text/x-python",
   "name": "python",
   "nbconvert_exporter": "python",
   "pygments_lexer": "ipython3",
   "version": "3.12.2"
  }
 },
 "nbformat": 4,
 "nbformat_minor": 2
}
